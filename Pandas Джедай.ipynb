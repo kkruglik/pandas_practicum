{
 "cells": [
  {
   "cell_type": "code",
   "execution_count": 12,
   "id": "e792b855",
   "metadata": {},
   "outputs": [],
   "source": [
    "import pandas as pd\n",
    "import numpy as np"
   ]
  },
  {
   "cell_type": "markdown",
   "id": "9aa0e973",
   "metadata": {},
   "source": [
    "Создайте `pandas.Series` из листа `lst`."
   ]
  },
  {
   "cell_type": "code",
   "execution_count": 13,
   "id": "269351c5",
   "metadata": {},
   "outputs": [
    {
     "name": "stdout",
     "output_type": "stream",
     "text": [
      "0    z\n",
      "1    y\n",
      "2    x\n",
      "3    w\n",
      "4    v\n",
      "5    u\n",
      "6    t\n",
      "7    s\n",
      "8    r\n",
      "dtype: object\n"
     ]
    }
   ],
   "source": [
    "lst = list('zyxwvutsr')\n",
    "\n",
    "series = pd.Series(lst)\n",
    "print(series)"
   ]
  },
  {
   "cell_type": "code",
   "execution_count": null,
   "id": "432439b8",
   "metadata": {},
   "outputs": [],
   "source": []
  },
  {
   "cell_type": "markdown",
   "id": "27fe90b1",
   "metadata": {},
   "source": [
    "На основе листа `lst` и массива `arr` сформируйте словарь и cоздайте `pandas.Series` из получившегося словаря."
   ]
  },
  {
   "cell_type": "code",
   "execution_count": 14,
   "id": "913faf69",
   "metadata": {},
   "outputs": [
    {
     "name": "stdout",
     "output_type": "stream",
     "text": [
      "a    0\n",
      "b    1\n",
      "c    2\n",
      "e    3\n",
      "d    4\n",
      "dtype: int64\n"
     ]
    }
   ],
   "source": [
    "lst = list('abced')\n",
    "arr = np.arange(5)\n",
    "\n",
    "d = dict(zip(lst, arr))\n",
    "series  = pd.Series(d)\n",
    "print(series)"
   ]
  },
  {
   "cell_type": "code",
   "execution_count": null,
   "id": "12a56a8c",
   "metadata": {},
   "outputs": [],
   "source": []
  },
  {
   "cell_type": "markdown",
   "id": "8c6f512c",
   "metadata": {},
   "source": [
    "Переведите `pandas.Series` (переменная `s`) в `pandas.DataFrame` таким образом, чтобы индекс стал отдельной колонкой датафрейма.\n",
    "\n",
    "Используйте `print()` чтобы распечатать получившийся pandas.DataFrame.\n",
    "\n",
    "Подсказка:\n",
    "\n",
    "`pandas.Series.to_frame`"
   ]
  },
  {
   "cell_type": "code",
   "execution_count": 11,
   "id": "043eca26",
   "metadata": {},
   "outputs": [
    {
     "name": "stdout",
     "output_type": "stream",
     "text": [
      "  index  0\n",
      "0     a  0\n",
      "1     b  1\n",
      "2     c  2\n",
      "3     e  3\n",
      "4     d  4\n"
     ]
    }
   ],
   "source": [
    "s = get_series()\n",
    "\n",
    "print(s.to_frame().reset_index())"
   ]
  },
  {
   "cell_type": "code",
   "execution_count": null,
   "id": "f45ca3bf",
   "metadata": {},
   "outputs": [],
   "source": []
  },
  {
   "cell_type": "markdown",
   "id": "88a1208d",
   "metadata": {},
   "source": [
    "Объедините два `pandas.Series (s1, s2)` таким образом чтобы получился `pandas.DataFrame` не используя конструктор!\n",
    "\n",
    "Подсказка:\n",
    "\n",
    "`pandas.concat`"
   ]
  },
  {
   "cell_type": "code",
   "execution_count": 23,
   "id": "0025c722",
   "metadata": {},
   "outputs": [
    {
     "name": "stdout",
     "output_type": "stream",
     "text": [
      "   0  1\n",
      "0  a  0\n",
      "1  b  1\n",
      "2  c  2\n",
      "3  e  3\n",
      "4  d  4\n"
     ]
    }
   ],
   "source": [
    "s1 = pd.Series(list('abced'))\n",
    "s2 = pd.Series(np.arange(5))\n",
    "\n",
    "print(pd.concat([s1, s2], ignore_index=True, axis=1))"
   ]
  },
  {
   "cell_type": "code",
   "execution_count": null,
   "id": "201f465c",
   "metadata": {},
   "outputs": [],
   "source": []
  },
  {
   "cell_type": "markdown",
   "id": "b0c3558b",
   "metadata": {},
   "source": [
    "Объедините два pandas.Series (переменные `s1`, `s2`) таким образом чтобы получился `pandas.DataFrame`.\n",
    " \n",
    "Используйте конструктор DataFrame."
   ]
  },
  {
   "cell_type": "code",
   "execution_count": 25,
   "id": "345951c1",
   "metadata": {},
   "outputs": [
    {
     "name": "stdout",
     "output_type": "stream",
     "text": [
      "  col1  col2\n",
      "0    a     0\n",
      "1    b     1\n",
      "2    c     2\n",
      "3    e     3\n",
      "4    d     4\n"
     ]
    }
   ],
   "source": [
    "s1 = pd.Series(list('abced'))\n",
    "s2 = pd.Series(np.arange(5))\n",
    "\n",
    "print(pd.DataFrame({'col1': s1, 'col2': s2}))"
   ]
  },
  {
   "cell_type": "code",
   "execution_count": null,
   "id": "e501dfdb",
   "metadata": {},
   "outputs": [],
   "source": []
  },
  {
   "cell_type": "markdown",
   "id": "2a34c432",
   "metadata": {},
   "source": [
    "Присвойте индексу `pandas.Series` имя `characters`."
   ]
  },
  {
   "cell_type": "code",
   "execution_count": 26,
   "id": "0720dd05",
   "metadata": {},
   "outputs": [
    {
     "name": "stdout",
     "output_type": "stream",
     "text": [
      "0    a\n",
      "1    b\n",
      "2    c\n",
      "3    e\n",
      "4    d\n",
      "Name: characters, dtype: object\n"
     ]
    }
   ],
   "source": [
    "s = pd.Series(list('abced'))\n",
    "\n",
    "s.name = 'characters'\n",
    "print(s)"
   ]
  },
  {
   "cell_type": "code",
   "execution_count": null,
   "id": "2312830b",
   "metadata": {},
   "outputs": [],
   "source": []
  },
  {
   "cell_type": "markdown",
   "id": "41a03168",
   "metadata": {},
   "source": [
    "Получите элементы `s1`, которые не присутствуют в `s2`.\n",
    "\n",
    "Подсказка: https://pandas.pydata.org/docs/reference/api/pandas.DataFrame.isin.html"
   ]
  },
  {
   "cell_type": "code",
   "execution_count": 35,
   "id": "9c7a7339",
   "metadata": {},
   "outputs": [
    {
     "name": "stdout",
     "output_type": "stream",
     "text": [
      "0    1\n",
      "1    2\n",
      "2    3\n",
      "dtype: int64\n"
     ]
    }
   ],
   "source": [
    "s1 = pd.Series([1, 2, 3, 4, 5])\n",
    "s2 = pd.Series([4, 5, 6, 7, 8])\n",
    "\n",
    "print(s1.loc[~s1.isin(s2)])"
   ]
  },
  {
   "cell_type": "code",
   "execution_count": null,
   "id": "14fd2a13",
   "metadata": {},
   "outputs": [],
   "source": []
  },
  {
   "cell_type": "markdown",
   "id": "3320a255",
   "metadata": {},
   "source": [
    "Создайте новый `pandas.Series` из элементов, которые присутствуют только в одном из двух `pandas.Series` (переменные `s1`, `s2`). Если элемент присутствует в двух `Series`, то выводить его не надо.\n",
    " \n",
    "Подсказка:\n",
    "\n",
    "`numpy.union1d`\n",
    "\n",
    "`numpy.intersect1d`"
   ]
  },
  {
   "cell_type": "code",
   "execution_count": 43,
   "id": "ddbc7262",
   "metadata": {},
   "outputs": [
    {
     "data": {
      "text/html": [
       "<div>\n",
       "<style scoped>\n",
       "    .dataframe tbody tr th:only-of-type {\n",
       "        vertical-align: middle;\n",
       "    }\n",
       "\n",
       "    .dataframe tbody tr th {\n",
       "        vertical-align: top;\n",
       "    }\n",
       "\n",
       "    .dataframe thead th {\n",
       "        text-align: right;\n",
       "    }\n",
       "</style>\n",
       "<table border=\"1\" class=\"dataframe\">\n",
       "  <thead>\n",
       "    <tr style=\"text-align: right;\">\n",
       "      <th></th>\n",
       "      <th>0</th>\n",
       "      <th>1</th>\n",
       "    </tr>\n",
       "  </thead>\n",
       "  <tbody>\n",
       "    <tr>\n",
       "      <th>0</th>\n",
       "      <td>4</td>\n",
       "      <td>1</td>\n",
       "    </tr>\n",
       "    <tr>\n",
       "      <th>1</th>\n",
       "      <td>5</td>\n",
       "      <td>2</td>\n",
       "    </tr>\n",
       "    <tr>\n",
       "      <th>2</th>\n",
       "      <td>6</td>\n",
       "      <td>3</td>\n",
       "    </tr>\n",
       "    <tr>\n",
       "      <th>3</th>\n",
       "      <td>7</td>\n",
       "      <td>4</td>\n",
       "    </tr>\n",
       "    <tr>\n",
       "      <th>4</th>\n",
       "      <td>8</td>\n",
       "      <td>5</td>\n",
       "    </tr>\n",
       "  </tbody>\n",
       "</table>\n",
       "</div>"
      ],
      "text/plain": [
       "   0  1\n",
       "0  4  1\n",
       "1  5  2\n",
       "2  6  3\n",
       "3  7  4\n",
       "4  8  5"
      ]
     },
     "execution_count": 43,
     "metadata": {},
     "output_type": "execute_result"
    }
   ],
   "source": [
    "s1 = pd.Series([1, 2, 3, 4, 5])\n",
    "s2 = pd.Series([4, 5, 6, 7, 8])\n",
    "\n",
    "pd.DataFrame([s2, s1]).T"
   ]
  },
  {
   "cell_type": "code",
   "execution_count": 67,
   "id": "8ff7b3e8",
   "metadata": {},
   "outputs": [
    {
     "name": "stdout",
     "output_type": "stream",
     "text": [
      "0    1\n",
      "1    2\n",
      "2    3\n",
      "5    6\n",
      "6    7\n",
      "7    8\n",
      "dtype: int64\n"
     ]
    }
   ],
   "source": [
    "union = pd.Series(np.union1d(s1, s2))\n",
    "mask = np.isin(np.union1d(s1, s2), np.intersect1d(s1, s2),  invert=True)\n",
    "print(union[mask])"
   ]
  },
  {
   "cell_type": "code",
   "execution_count": 69,
   "id": "3911c344",
   "metadata": {},
   "outputs": [
    {
     "data": {
      "text/plain": [
       "0    1\n",
       "1    2\n",
       "2    3\n",
       "5    6\n",
       "6    7\n",
       "7    8\n",
       "dtype: int64"
      ]
     },
     "execution_count": 69,
     "metadata": {},
     "output_type": "execute_result"
    }
   ],
   "source": [
    "union = pd.Series(np.union1d(s1, s2))\n",
    "print(union[~union.isin(np.intersect1d(s1, s2))])"
   ]
  },
  {
   "cell_type": "code",
   "execution_count": null,
   "id": "2b80eeb7",
   "metadata": {},
   "outputs": [],
   "source": []
  },
  {
   "cell_type": "markdown",
   "id": "ff953a6a",
   "metadata": {},
   "source": [
    "Имея данные в `pandas.Series` (переменная `s1`) рассчитайте:\n",
    "\n",
    "    наименьшее значение\n",
    "    25 перцентиль\n",
    "    медиану\n",
    "    75 перцентиль\n",
    "    наибольшее значение\n",
    "\n",
    "Подсказка:\n",
    "\n",
    "`numpy.percentile`"
   ]
  },
  {
   "cell_type": "code",
   "execution_count": 70,
   "id": "3da993f9",
   "metadata": {},
   "outputs": [],
   "source": [
    "lst = [12.53904795,  5.68886327, 16.24734871,  9.60194377,  5.55134259,\n",
    "        5.59100805, 10.09319475, 11.18922311, 10.06774274,  1.822353]\n",
    "\n",
    "s1 = pd.Series(lst)"
   ]
  },
  {
   "cell_type": "code",
   "execution_count": 77,
   "id": "d8b665aa",
   "metadata": {},
   "outputs": [
    {
     "data": {
      "text/plain": [
       "count    10.000000\n",
       "mean      8.839207\n",
       "std       4.193610\n",
       "min       1.822353\n",
       "25%       5.615472\n",
       "50%       9.834843\n",
       "75%      10.915216\n",
       "max      16.247349\n",
       "dtype: float64"
      ]
     },
     "execution_count": 77,
     "metadata": {},
     "output_type": "execute_result"
    }
   ],
   "source": []
  },
  {
   "cell_type": "code",
   "execution_count": 92,
   "id": "107b1b02",
   "metadata": {},
   "outputs": [
    {
     "name": "stdout",
     "output_type": "stream",
     "text": [
      "1.822353 5.615471855 9.834843255 10.91521602 16.24734871\n"
     ]
    }
   ],
   "source": [
    "print(s1.min(),\n",
    "      np.percentile(s1, 25),\n",
    "      np.percentile(s1, 50),\n",
    "      np.percentile(s1, 75),\n",
    "      s1.max()\n",
    "     )"
   ]
  },
  {
   "cell_type": "code",
   "execution_count": 84,
   "id": "cdf4235c",
   "metadata": {},
   "outputs": [
    {
     "data": {
      "text/plain": [
       "5.4286019275"
      ]
     },
     "execution_count": 84,
     "metadata": {},
     "output_type": "execute_result"
    }
   ],
   "source": []
  },
  {
   "cell_type": "code",
   "execution_count": null,
   "id": "c3a7db5d",
   "metadata": {},
   "outputs": [],
   "source": []
  }
 ],
 "metadata": {
  "kernelspec": {
   "display_name": "Python 3",
   "language": "python",
   "name": "python3"
  },
  "language_info": {
   "codemirror_mode": {
    "name": "ipython",
    "version": 3
   },
   "file_extension": ".py",
   "mimetype": "text/x-python",
   "name": "python",
   "nbconvert_exporter": "python",
   "pygments_lexer": "ipython3",
   "version": "3.8.8"
  }
 },
 "nbformat": 4,
 "nbformat_minor": 5
}
